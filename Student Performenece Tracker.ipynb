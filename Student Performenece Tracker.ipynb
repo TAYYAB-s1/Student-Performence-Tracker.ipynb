{
 "cells": [
  {
   "cell_type": "code",
   "execution_count": null,
   "metadata": {},
   "outputs": [
    {
     "name": "stdout",
     "output_type": "stream",
     "text": [
      "Student: tayyab\n",
      "Average Score: 45.0\n",
      "Passing: False\n",
      "Highest Score: 45.0\n",
      "Lowest Score: 45.0\n",
      "\n",
      "Student: haseeb\n",
      "Average Score: 46.666666666666664\n",
      "Passing: False\n",
      "Highest Score: 67.0\n",
      "Lowest Score: 14.0\n",
      "\n",
      "Class Statistics:\n",
      "Class Average: 45.83333333333333\n",
      "Number of Students Passing: 0\n",
      "Number of Students Failing: 2\n"
     ]
    }
   ],
   "source": [
    "class Student:\n",
    "    def __init__(self, name, math, computer, physics):\n",
    "        self.name = name\n",
    "        self.scores = {\"math\": math, \"computer:\":computer, \"physics:\":physics} \n",
    "\n",
    "    def calculate_average(self):\n",
    "        total = sum(self.scores.values())\n",
    "        return total / len(self.scores)\n",
    "\n",
    "    def is_passing(self, passing_threshold=60):\n",
    "        return self.calculate_average() >= passing_threshold\n",
    "\n",
    "    def get_highest_score(self):\n",
    "        return max(self.scores.values())\n",
    " \n",
    "    def get_lowest_score(self):\n",
    "        return min(self.scores.values())\n",
    "\n",
    "def main():\n",
    "    students = []\n",
    "    num_students = int(input(\"Enter the number of students: \"))\n",
    "\n",
    "    for i in range(num_students):\n",
    "        name = input(\"Enter student name: \")\n",
    "        math = float(input(\"Enter math score: \"))\n",
    "        computer = float(input(\"Enter computer score: \"))\n",
    "        physics = float(input(\"Enter physics score: \"))\n",
    "        student = Student(name, math, computer, physics)\n",
    "        students.append(student)\n",
    "\n",
    "    for student in students:\n",
    "        print(f\"Student: {student.name}\")\n",
    "        print(f\"Average Score: {student.calculate_average()}\")\n",
    "        print(f\"Passing: {student.is_passing()}\")\n",
    "        print(f\"Highest Score: {student.get_highest_score()}\")\n",
    "        print(f\"Lowest Score: {student.get_lowest_score()}\")\n",
    "        print()\n",
    "\n",
    "    # Calculate class statistics\n",
    "    class_average = sum(student.calculate_average() for student in students) / num_students\n",
    "    num_passing = sum(1 for student in students if student.is_passing())\n",
    "    num_failing = num_students - num_passing\n",
    "\n",
    "    print(\"Class Statistics:\")\n",
    "    print(f\"Class Average: {class_average}\")\n",
    "    print(f\"Number of Students Passing: {num_passing}\")\n",
    "    print(f\"Number of Students Failing: {num_failing}\")\n",
    "\n",
    "if __name__ == \"__main__\":\n",
    "    main()"
   ]
  }
 ],
 "metadata": {
  "kernelspec": {
   "display_name": "Python 3",
   "language": "python",
   "name": "python3"
  },
  "language_info": {
   "codemirror_mode": {
    "name": "ipython",
    "version": 3
   },
   "file_extension": ".py",
   "mimetype": "text/x-python",
   "name": "python",
   "nbconvert_exporter": "python",
   "pygments_lexer": "ipython3",
   "version": "3.12.4"
  }
 },
 "nbformat": 4,
 "nbformat_minor": 2
}
